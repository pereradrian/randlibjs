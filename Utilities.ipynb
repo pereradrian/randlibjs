{
 "cells": [
  {
   "cell_type": "code",
   "execution_count": 7,
   "id": "d95e7628-ed20-4c74-8f97-a2faf0e624a7",
   "metadata": {},
   "outputs": [],
   "source": [
    "import numpy as np\n",
    "from scipy.stats import norm\n",
    "import warnings\n",
    "import matplotlib.pyplot as plt\n",
    "\n",
    "# Convertir los warnings en excepciones\n",
    "warnings.filterwarnings(\"error\", category=RuntimeWarning)"
   ]
  },
  {
   "cell_type": "markdown",
   "id": "2cfc41f8-5b14-4018-9148-9ecf428d29e0",
   "metadata": {},
   "source": [
    "## Auxiliar code to generate inverse normal CDF interpolation nodes "
   ]
  },
  {
   "cell_type": "code",
   "execution_count": 8,
   "id": "98b4c276-49f7-4386-8613-8c6800c59e47",
   "metadata": {},
   "outputs": [
    {
     "name": "stdout",
     "output_type": "stream",
     "text": [
      "Máquina epsilon: 2.220446049250313e-16\n"
     ]
    }
   ],
   "source": [
    "epsilon = np.finfo(float).eps\n",
    "print(f\"Máquina epsilon: {epsilon}\")"
   ]
  },
  {
   "cell_type": "code",
   "execution_count": 81,
   "id": "71f28083-506b-4498-9983-582d89d3b01e",
   "metadata": {},
   "outputs": [],
   "source": [
    "def node_is_relevant(x_l, y_l, x_r, y_r, x, y, tolerance):\n",
    "    y_interp = (x - x_l)/(x_r-x_l)*y_r + (x_r - x)/(x_r-x_l)*y_l\n",
    "    error = np.abs(y_interp - y) / np.maximum(y_interp, y)\n",
    "    return tolerance < error\n",
    "    \n",
    "# Lets reduce a bit the complexity\n",
    "# As we are about to interpolate, we will remove the nodes for which the information is equivalent to interpolating\n",
    "def compress(x, y, tolerance):\n",
    "    length = len(x)\n",
    "    relevances = np.ones(shape=(length,), dtype=bool)\n",
    "    for index_l in range(length-2):\n",
    "        if relevances[index_l]:\n",
    "            index = index_l + 1\n",
    "            index_r = index + 1\n",
    "            try:\n",
    "                relevances[index] = node_is_relevant(x[index_l], y[index_l], x[index_r], y[index_r], x[index], y[index], tolerance)\n",
    "            except Exception as e:\n",
    "                relevances[index] = 0\n",
    "                \n",
    "    return relevances\n",
    "\n",
    "def compress_iter(x, y, tolerance):\n",
    "    stop_compressing = False\n",
    "    x_eff = x[:]\n",
    "    y_eff = y[:]\n",
    "    while not stop_compressing:\n",
    "        relevances = compress(x_eff, y_eff, tolerance)\n",
    "        x_eff = x_eff[relevances]\n",
    "        y_eff = y_eff[relevances]\n",
    "        if all(relevances):\n",
    "            stop_compressing = True\n",
    "             \n",
    "    return x_eff[relevances], y_eff[relevances]\n",
    "        \n",
    "    \n",
    "def format_variable(name, array):\n",
    "    lines = f\"const {name}= [\\n\"\n",
    "    lines += \",\\n\".join([f\"    {element}\" for element in array])\n",
    "    lines += \"\\n]\\n\\n\"\n",
    "    return lines\n",
    "\n",
    "def compress_symmetric(x, y, tolerance):\n",
    "    x_eff, y_eff = compress_iter(x, y, tolerance)\n",
    "    indices = (x_eff <= tolerance)\n",
    "    return x_eff[indices], y_eff[indices]"
   ]
  },
  {
   "cell_type": "code",
   "execution_count": 90,
   "id": "2a0d3c82-e600-4c79-b599-44a3a06aa880",
   "metadata": {},
   "outputs": [],
   "source": [
    "N_STD = 8.0\n",
    "MESH_SIZE = 1024*8\n",
    "# Compute mesh and the probability values\n",
    "quantiles = np.linspace(-N_STD, epsilon, MESH_SIZE//2)\n",
    "probabilities = norm.cdf(quantiles)"
   ]
  },
  {
   "cell_type": "code",
   "execution_count": 93,
   "id": "5939aaa7-4d33-4d91-a3f6-b2b19fc26b0f",
   "metadata": {},
   "outputs": [
    {
     "data": {
      "image/png": "[encoded data removed]",
      "text/plain": [
       "<Figure size 640x480 with 1 Axes>"
      ]
     },
     "metadata": {},
     "output_type": "display_data"
    }
   ],
   "source": [
    "# Remove probabilities\n",
    "x_eff, y_eff = compress_symmetric(quantiles, probabilities, tolerance=np.finfo(float).eps)\n",
    "plt.figure()\n",
    "#plt.plot(quantiles, probabilities, '*-')\n",
    "plt.plot(x_eff, y_eff, '*-')\n",
    "plt.show()\n",
    "plt.close()"
   ]
  },
  {
   "cell_type": "code",
   "execution_count": 96,
   "id": "dbda5072-86a8-4220-9293-05ccaa11e6a6",
   "metadata": {},
   "outputs": [
    {
     "name": "stdout",
     "output_type": "stream",
     "text": [
      "4096\n"
     ]
    }
   ],
   "source": [
    "print(len(x_eff))\n",
    "# Save quantiles and probabilities as a JS file\n",
    "with open(\"./src/functions/util/normal-cdf-data.js\", \"w\") as file:\n",
    "    lines = format_variable(\"X\", y_eff)\n",
    "    lines += format_variable(\"Y\", x_eff)\n",
    "    lines += \"module.exports = { X, Y };\"\n",
    "    file.write(lines)"
   ]
  },
  {
   "cell_type": "markdown",
   "id": "1336ede7-9723-4674-bed0-1e3b47218502",
   "metadata": {},
   "source": [
    "### Computation of k, for a given threshold to approximate poisson distribution with normal distribution"
   ]
  },
  {
   "cell_type": "code",
   "execution_count": null,
   "id": "29263362-6f7b-41ad-b7b2-62cc9da24678",
   "metadata": {},
   "outputs": [],
   "source": [
    "import math\n",
    "from scipy.stats import poisson, norm\n",
    "\n",
    "epsilon = 1e-16  # Umbral para KL\n",
    "\n",
    "def poisson_pmf(lambda_, k):\n",
    "    \"\"\"Probabilidad de Poisson.\"\"\"\n",
    "    fact = math.factorial(int(k))\n",
    "    return np.power(lambda_,k) * math.exp(-lambda_) / fact\n",
    "\n",
    "def normal_pdf(mean, std, k):\n",
    "    \"\"\"Densidad de la distribución Normal.\"\"\"\n",
    "    return (1.0 / (std * math.sqrt(2.0 * math.pi))) * math.exp(-(np.square(k - mean)) / (2 * np.square(std)))\n",
    "\n",
    "def kl_divergence_poisson_normal(lambda_):\n",
    "    \"\"\"Calcula la divergencia KL entre Poisson y Normal para un rango de k.\"\"\"\n",
    "    mean = lambda_\n",
    "    std = math.sqrt(lambda_)\n",
    "    kl = 0.0\n",
    "    k = 0.0\n",
    "\n",
    "    while True:\n",
    "        pk = poisson_pmf(lambda_, k)\n",
    "        qk = normal_pdf(mean, std, k)\n",
    "        k += 1.0\n",
    "\n",
    "        if pk > epsilon and qk > epsilon:  # Evitar log(0) o divisiones por cero\n",
    "            kl += pk * math.log(pk / qk)\n",
    "        else:\n",
    "            break\n",
    "    \n",
    "    return kl\n",
    "\n",
    "def find_lambda_for_epsilon(tol):\n",
    "    \"\"\"Encuentra el valor de lambda para el cual KL(P||Q) <= epsilon.\"\"\"\n",
    "    low, high = 1.0, 1000.0  # Rango inicial de búsqueda\n",
    "    best_lambda = None\n",
    "    \n",
    "    while high - low > tol:\n",
    "        mid = (low + high) / 2.0\n",
    "        kl = kl_divergence_poisson_normal(mid)\n",
    "        print(low, mid, high, high-low, kl)\n",
    "        \n",
    "        if kl <= epsilon:\n",
    "            best_lambda = mid\n",
    "            high = mid  # Seguir buscando un lambda menor que cumpla\n",
    "        else:\n",
    "            low = mid  # Aumentar el rango de búsqueda\n",
    "    \n",
    "    return best_lambda\n",
    "\n",
    "lambda_approx = find_lambda_for_epsilon(0.1)\n",
    "print(f\"El valor de lambda para KL <= {epsilon} es: {lambda_approx:.4f}\")\n"
   ]
  },
  {
   "cell_type": "markdown",
   "id": "b0cfde19-6c94-4059-b4f2-7e0b231bdbbb",
   "metadata": {},
   "source": [
    "### Computation of k, for a given threshold to approximate chi2 distribution with normal distribution"
   ]
  },
  {
   "cell_type": "code",
   "execution_count": null,
   "id": "7f56f240-8e37-4b12-b929-e3872a2836ed",
   "metadata": {},
   "outputs": [],
   "source": [
    "import numpy as np\n",
    "from scipy.stats import chi2, norm\n",
    "from scipy.special import rel_entr\n",
    "\n",
    "def kl_divergence_chi2_normal(k, num_points=1000000):\n",
    "    chi2_dist = chi2(k)\n",
    "    normal_dist = norm(loc=k, scale=np.sqrt(2.0 * k))\n",
    "    \n",
    "    x = np.linspace(chi2.ppf(epsilon, k), chi2.ppf(1.0-epsilon, k), num_points)\n",
    "    \n",
    "    p = chi2_dist.pdf(x)\n",
    "    q = normal_dist.pdf(x)\n",
    "    \n",
    "    return rel_entr(p, q).sum()\n",
    "\n",
    "def find_k_for_epsilon(tol=epsilon):\n",
    "    low, high = 1, 10000000\n",
    "    best_k = None\n",
    "    \n",
    "    while high - low > tol:\n",
    "        mid = (low + high) / 2\n",
    "        kl = kl_divergence_chi2_normal(mid)\n",
    "        print(low, high, best_k, kl)\n",
    "        \n",
    "        if kl <= epsilon:\n",
    "            best_k = mid\n",
    "            high = mid \n",
    "        else:\n",
    "            low = mid \n",
    "    \n",
    "    return best_k\n",
    "\n",
    "epsilon=1e-2\n",
    "k_approx = find_k_for_epsilon(epsilon)\n",
    "print(k_approx)\n",
    "print(f\"El valor de k para KL <= {epsilon} es: {k_approx:.6f}\")\n"
   ]
  }
 ],
 "metadata": {
  "kernelspec": {
   "display_name": "Python 3 (ipykernel)",
   "language": "python",
   "name": "python3"
  },
  "language_info": {
   "codemirror_mode": {
    "name": "ipython",
    "version": 3
   },
   "file_extension": ".py",
   "mimetype": "text/x-python",
   "name": "python",
   "nbconvert_exporter": "python",
   "pygments_lexer": "ipython3",
   "version": "3.10.13"
  }
 },
 "nbformat": 4,
 "nbformat_minor": 5
}
