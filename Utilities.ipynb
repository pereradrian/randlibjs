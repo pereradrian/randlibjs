{
 "cells": [
  {
   "cell_type": "code",
   "execution_count": 39,
   "id": "d95e7628-ed20-4c74-8f97-a2faf0e624a7",
   "metadata": {},
   "outputs": [],
   "source": [
    "def format_variable(name, array):\n",
    "    lines = f\"const {name}= [\\n\"\n",
    "    lines += \",\\n\".join([f\"\\t{element}\" for element in array])\n",
    "    lines += \"\\n]\\n\\n\"\n",
    "    return lines"
   ]
  },
  {
   "cell_type": "markdown",
   "id": "2cfc41f8-5b14-4018-9148-9ecf428d29e0",
   "metadata": {},
   "source": [
    "## Auxiliar code to generate inverse normal CDF interpolation nodes "
   ]
  },
  {
   "cell_type": "code",
   "execution_count": 45,
   "id": "71f28083-506b-4498-9983-582d89d3b01e",
   "metadata": {},
   "outputs": [],
   "source": [
    "import numpy as np\n",
    "from scipy.stats import norm\n",
    "\n",
    "MESH_SIZE = 10000\n",
    "N_STD = 8.0\n",
    "\n",
    "# Compute mesh and the probability values\n",
    "quantiles = np.linspace(-N_STD, N_STD, MESH_SIZE)\n",
    "probabilities = norm.cdf(quantiles)\n",
    "\n",
    "# Save quantiles and probabilities as a JS file\n",
    "with open(\"./src/functions/util/normal-cdf-data.js\", \"w\") as file:\n",
    "    lines = format_variable(\"X\", probabilities)\n",
    "    lines += format_variable(\"Y\", quantiles)\n",
    "    lines += \"module.exports = { X, Y };\"\n",
    "    file.write(lines)"
   ]
  }
 ],
 "metadata": {
  "kernelspec": {
   "display_name": "Python 3 (ipykernel)",
   "language": "python",
   "name": "python3"
  },
  "language_info": {
   "codemirror_mode": {
    "name": "ipython",
    "version": 3
   },
   "file_extension": ".py",
   "mimetype": "text/x-python",
   "name": "python",
   "nbconvert_exporter": "python",
   "pygments_lexer": "ipython3",
   "version": "3.10.13"
  }
 },
 "nbformat": 4,
 "nbformat_minor": 5
}
