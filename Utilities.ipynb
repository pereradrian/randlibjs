{
 "cells": [
  {
   "cell_type": "code",
   "execution_count": 39,
   "id": "d95e7628-ed20-4c74-8f97-a2faf0e624a7",
   "metadata": {},
   "outputs": [],
   "source": [
    "def format_variable(name, array):\n",
    "    lines = f\"const {name}= [\\n\"\n",
    "    lines += \",\\n\".join([f\"\\t{element}\" for element in array])\n",
    "    lines += \"\\n]\\n\\n\"\n",
    "    return lines"
   ]
  },
  {
   "cell_type": "markdown",
   "id": "2cfc41f8-5b14-4018-9148-9ecf428d29e0",
   "metadata": {},
   "source": [
    "## Auxiliar code to generate inverse normal CDF interpolation nodes "
   ]
  },
  {
   "cell_type": "code",
   "execution_count": 45,
   "id": "71f28083-506b-4498-9983-582d89d3b01e",
   "metadata": {},
   "outputs": [],
   "source": [
    "import numpy as np\n",
    "from scipy.stats import norm\n",
    "\n",
    "MESH_SIZE = 10000\n",
    "N_STD = 8.0\n",
    "\n",
    "# Compute mesh and the probability values\n",
    "quantiles = np.linspace(-N_STD, N_STD, MESH_SIZE)\n",
    "probabilities = norm.cdf(quantiles)\n",
    "\n",
    "# Save quantiles and probabilities as a JS file\n",
    "with open(\"./src/functions/util/normal-cdf-data.js\", \"w\") as file:\n",
    "    lines = format_variable(\"X\", probabilities)\n",
    "    lines += format_variable(\"Y\", quantiles)\n",
    "    lines += \"module.exports = { X, Y };\"\n",
    "    file.write(lines)"
   ]
  },
  {
   "cell_type": "markdown",
   "id": "1336ede7-9723-4674-bed0-1e3b47218502",
   "metadata": {},
   "source": [
    "### Computation of k, for a given threshold to approximate poisson distribution with normal distribution"
   ]
  },
  {
   "cell_type": "code",
   "execution_count": 73,
   "id": "29263362-6f7b-41ad-b7b2-62cc9da24678",
   "metadata": {},
   "outputs": [
    {
     "name": "stdout",
     "output_type": "stream",
     "text": [
      "1.0 500.5 1000.0 999.0 0.0\n",
      "1.0 250.75 500.5 499.5 0.0\n",
      "1.0 125.875 250.75 249.75 0.0\n",
      "1.0 63.4375 125.875 124.875 0.0\n",
      "1.0 32.21875 63.4375 62.4375 0.002628318833316491\n",
      "32.21875 47.828125 63.4375 31.21875 0.0\n",
      "32.21875 40.0234375 47.828125 15.609375 0.0\n",
      "32.21875 36.12109375 40.0234375 7.8046875 0.0023401817738232036\n",
      "36.12109375 38.072265625 40.0234375 3.90234375 0.0\n",
      "36.12109375 37.0966796875 38.072265625 1.951171875 0.0\n",
      "36.12109375 36.60888671875 37.0966796875 0.9755859375 0.0023085481587149124\n",
      "36.60888671875 36.852783203125 37.0966796875 0.48779296875 0.0\n",
      "36.60888671875 36.7308349609375 36.852783203125 0.243896484375 0.002300772976225045\n",
      "36.7308349609375 36.79180908203125 36.852783203125 0.1219482421875 0.0022969049986084683\n",
      "El valor de lambda para KL <= 1e-16 es: 36.8528\n"
     ]
    }
   ],
   "source": [
    "import math\n",
    "from scipy.stats import poisson, norm\n",
    "\n",
    "epsilon = 1e-16  # Umbral para KL\n",
    "\n",
    "def poisson_pmf(lambda_, k):\n",
    "    \"\"\"Probabilidad de Poisson.\"\"\"\n",
    "    fact = math.factorial(int(k))\n",
    "    return np.power(lambda_,k) * math.exp(-lambda_) / fact\n",
    "\n",
    "def normal_pdf(mean, std, k):\n",
    "    \"\"\"Densidad de la distribución Normal.\"\"\"\n",
    "    return (1.0 / (std * math.sqrt(2.0 * math.pi))) * math.exp(-(np.square(k - mean)) / (2 * np.square(std)))\n",
    "\n",
    "def kl_divergence_poisson_normal(lambda_):\n",
    "    \"\"\"Calcula la divergencia KL entre Poisson y Normal para un rango de k.\"\"\"\n",
    "    mean = lambda_\n",
    "    std = math.sqrt(lambda_)\n",
    "    kl = 0.0\n",
    "    k = 0.0\n",
    "\n",
    "    while True:\n",
    "        pk = poisson_pmf(lambda_, k)\n",
    "        qk = normal_pdf(mean, std, k)\n",
    "        k += 1.0\n",
    "\n",
    "        if pk > epsilon and qk > epsilon:  # Evitar log(0) o divisiones por cero\n",
    "            kl += pk * math.log(pk / qk)\n",
    "        else:\n",
    "            break\n",
    "    \n",
    "    return kl\n",
    "\n",
    "def find_lambda_for_epsilon(tol):\n",
    "    \"\"\"Encuentra el valor de lambda para el cual KL(P||Q) <= epsilon.\"\"\"\n",
    "    low, high = 1.0, 1000.0  # Rango inicial de búsqueda\n",
    "    best_lambda = None\n",
    "    \n",
    "    while high - low > tol:\n",
    "        mid = (low + high) / 2.0\n",
    "        kl = kl_divergence_poisson_normal(mid)\n",
    "        print(low, mid, high, high-low, kl)\n",
    "        \n",
    "        if kl <= epsilon:\n",
    "            best_lambda = mid\n",
    "            high = mid  # Seguir buscando un lambda menor que cumpla\n",
    "        else:\n",
    "            low = mid  # Aumentar el rango de búsqueda\n",
    "    \n",
    "    return best_lambda\n",
    "\n",
    "lambda_approx = find_lambda_for_epsilon(0.1)\n",
    "print(f\"El valor de lambda para KL <= {epsilon} es: {lambda_approx:.4f}\")\n"
   ]
  },
  {
   "cell_type": "markdown",
   "id": "b0cfde19-6c94-4059-b4f2-7e0b231bdbbb",
   "metadata": {},
   "source": [
    "### Computation of k, for a given threshold to approximate chi2 distribution with normal distribution"
   ]
  },
  {
   "cell_type": "code",
   "execution_count": 72,
   "id": "7f56f240-8e37-4b12-b929-e3872a2836ed",
   "metadata": {},
   "outputs": [
    {
     "name": "stdout",
     "output_type": "stream",
     "text": [
      "1 10000000 None 7.353439123321153e-06\n",
      "1 5000000.5 5000000.5 2.0306253601679385e-05\n",
      "1 2500000.75 2500000.75 5.664171853134581e-05\n",
      "1 1250000.875 1250000.875 0.0001600924718357389\n",
      "1 625000.9375 625000.9375 0.00045303955197460217\n",
      "1 312500.96875 312500.96875 0.0012815423591038882\n",
      "1 156250.984375 156250.984375 0.0036246967752530035\n",
      "1 78125.9921875 78125.9921875 0.010252150061093935\n",
      "39063.49609375 78125.9921875 78125.9921875 0.005580597290055379\n",
      "39063.49609375 58594.744140625 58594.744140625 0.007335867170344989\n",
      "39063.49609375 48829.1201171875 48829.1201171875 0.008591857330120137\n",
      "39063.49609375 43946.30810546875 43946.30810546875 0.009361000938967044\n",
      "39063.49609375 41504.902099609375 41504.902099609375 0.009789690281648203\n",
      "39063.49609375 40284.19909667969 40284.19909667969 0.010016485223876742\n",
      "39673.847595214844 40284.19909667969 40284.19909667969 0.009901998984766716\n",
      "39673.847595214844 39979.023345947266 39979.023345947266 0.009958969680877094\n",
      "39673.847595214844 39826.435470581055 39826.435470581055 0.009987671017144158\n",
      "39673.847595214844 39750.14153289795 39750.14153289795 0.010002052327248033\n",
      "39711.9945640564 39750.14153289795 39750.14153289795 0.009994844379186919\n",
      "39711.9945640564 39731.06804847717 39731.06804847717 0.009998465002339762\n",
      "39711.9945640564 39721.531306266785 39721.531306266785 0.01000024131617344\n",
      "39716.76293516159 39721.531306266785 39721.531306266785 0.009999356284837736\n",
      "39716.76293516159 39719.14712071419 39719.14712071419 0.009999787026559978\n",
      "39716.76293516159 39717.95502793789 39717.95502793789 0.010000029494591911\n",
      "39717.35898154974 39717.95502793789 39717.95502793789 0.00999990708708261\n",
      "39717.35898154974 39717.657004743814 39717.657004743814 0.009999969657396142\n",
      "39717.35898154974 39717.50799314678 39717.50799314678 0.009999997985448898\n",
      "39717.35898154974 39717.43348734826 39717.43348734826 0.010000021310300288\n",
      "39717.396234449 39717.43348734826 39717.43348734826 0.010000008166863488\n",
      "39717.41486089863 39717.43348734826 39717.43348734826 0.0099999858838569\n",
      "39717.424174123444\n",
      "El valor de k para KL <= 0.01 es: 39717.424174\n"
     ]
    }
   ],
   "source": [
    "import numpy as np\n",
    "from scipy.stats import chi2, norm\n",
    "import matplotlib.pyplot as plt\n",
    "from scipy.special import rel_entr\n",
    "\n",
    "def kl_divergence_chi2_normal(k, num_points=1000000):\n",
    "    chi2_dist = chi2(k)\n",
    "    normal_dist = norm(loc=k, scale=np.sqrt(2.0 * k))\n",
    "    \n",
    "    x = np.linspace(chi2.ppf(epsilon, k), chi2.ppf(1.0-epsilon, k), num_points)\n",
    "    \n",
    "    p = chi2_dist.pdf(x)\n",
    "    q = normal_dist.pdf(x)\n",
    "    \n",
    "    return rel_entr(p, q).sum()\n",
    "\n",
    "def find_k_for_epsilon(tol=epsilon):\n",
    "    low, high = 1, 10000000\n",
    "    best_k = None\n",
    "    \n",
    "    while high - low > tol:\n",
    "        mid = (low + high) / 2\n",
    "        kl = kl_divergence_chi2_normal(mid)\n",
    "        print(low, high, best_k, kl)\n",
    "        \n",
    "        if kl <= epsilon:\n",
    "            best_k = mid\n",
    "            high = mid \n",
    "        else:\n",
    "            low = mid \n",
    "    \n",
    "    return best_k\n",
    "\n",
    "epsilon=1e-2\n",
    "k_approx = find_k_for_epsilon(epsilon)\n",
    "print(k_approx)\n",
    "print(f\"El valor de k para KL <= {epsilon} es: {k_approx:.6f}\")\n"
   ]
  }
 ],
 "metadata": {
  "kernelspec": {
   "display_name": "Python 3 (ipykernel)",
   "language": "python",
   "name": "python3"
  },
  "language_info": {
   "codemirror_mode": {
    "name": "ipython",
    "version": 3
   },
   "file_extension": ".py",
   "mimetype": "text/x-python",
   "name": "python",
   "nbconvert_exporter": "python",
   "pygments_lexer": "ipython3",
   "version": "3.10.13"
  }
 },
 "nbformat": 4,
 "nbformat_minor": 5
}
